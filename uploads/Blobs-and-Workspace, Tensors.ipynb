{
 "cells": [
  {
   "cell_type": "markdown",
   "metadata": {},
   "source": [
    "## Caffe2 Concepts\n",
    "Below you can learn more about the main concepts of Caffe2 that are crucial for understanding and developing Caffe2 models.\n",
    "\n",
    "### Blobs and Workspace, Tensors\n",
    "Data in Caffe2 is organized as blobs. Blob is just a named chunk of data in memory. Most blobs contain a tensor (think multidimensional array), and in python they are translated to numpy arrays (numpy is a popular numerical library for python and is already installed as a prerequisite with Caffe2).\n",
    "\n",
    "[Workspace](workspace.html) stores all the blobs. Following example shows how to feed blobs into `workspace` and fetch them. Workspaces initialize themselves the moment you start using them.\n"
   ]
  },
  {
   "cell_type": "code",
   "execution_count": 1,
   "metadata": {
    "scrolled": true
   },
   "outputs": [
    {
     "name": "stdout",
     "output_type": "stream",
     "text": [
      "[[[ 0.65488539  0.75442539]\n",
      "  [ 0.97237125  0.05673576]\n",
      "  [ 0.50913366  0.63948923]]\n",
      "\n",
      " [[ 0.37889724  0.23027369]\n",
      "  [ 0.23741295  0.26820519]\n",
      "  [ 0.29745158  0.34361856]]\n",
      "\n",
      " [[ 0.99060827  0.9180144 ]\n",
      "  [ 0.03749199  0.13332019]\n",
      "  [ 0.77342564  0.76443418]]\n",
      "\n",
      " [[ 0.16724496  0.51716335]\n",
      "  [ 0.74060236  0.34408865]\n",
      "  [ 0.52004503  0.68331434]]]\n",
      "(4, 3, 2)\n",
      "[[[ 0.65488539  0.75442539]\n",
      "  [ 0.97237125  0.05673576]\n",
      "  [ 0.50913366  0.63948923]]\n",
      "\n",
      " [[ 0.37889724  0.23027369]\n",
      "  [ 0.23741295  0.26820519]\n",
      "  [ 0.29745158  0.34361856]]\n",
      "\n",
      " [[ 0.99060827  0.9180144 ]\n",
      "  [ 0.03749199  0.13332019]\n",
      "  [ 0.77342564  0.76443418]]\n",
      "\n",
      " [[ 0.16724496  0.51716335]\n",
      "  [ 0.74060236  0.34408865]\n",
      "  [ 0.52004503  0.68331434]]]\n"
     ]
    }
   ],
   "source": [
    "from caffe2.python import workspace, model_helper\n",
    "import numpy as np\n",
    "# Create random tensor of three dimensions\n",
    "x = np.random.rand(4, 3, 2)\n",
    "print(x)\n",
    "print(x.shape)\n",
    "\n",
    "workspace.FeedBlob(\"my_x\", x)\n",
    "\n",
    "x2 = workspace.FetchBlob(\"my_x\")\n",
    "print(x2)"
   ]
  },
  {
   "cell_type": "markdown",
   "metadata": {},
   "source": [
    "### Nets and Operators\n",
    "The fundamental object of Caffe2 is a net (short for network). Net is a graph of operators, and each operator takes a set of input blobs and produces one or more output blobs.\n",
    "\n",
    "In the code block below we will create a super simple model. It will have these components:\n",
    "\n",
    "* One fully-connected layer (FC)\n",
    "  * a Sigmoid activation with a Softmax\n",
    "  * a CrossEntropy loss\n",
    "\n",
    "Composing nets directly is quite tedious, so it is better to use *model helpers* that are python classes that aid in creating the nets. Even though we call it and pass in a single name \"my first net\", `ModelHelper` will create two interrelated nets:\n",
    "\n",
    "1. one that initializes the parameters (ref. init_net)\n",
    "2. one that runs the actual training (ref. exec_net)"
   ]
  },
  {
   "cell_type": "code",
   "execution_count": 2,
   "metadata": {},
   "outputs": [
    {
     "data": {
      "text/plain": [
       "True"
      ]
     },
     "execution_count": 2,
     "metadata": {},
     "output_type": "execute_result"
    }
   ],
   "source": [
    "# Create the input data\n",
    "data = np.random.rand(16, 100).astype(np.float32)\n",
    "\n",
    "# Create labels for the data as integers [0, 9].\n",
    "label = (np.random.rand(16) * 10).astype(np.int32)\n",
    "\n",
    "workspace.FeedBlob(\"data\", data)\n",
    "workspace.FeedBlob(\"label\", label)"
   ]
  },
  {
   "cell_type": "markdown",
   "metadata": {},
   "source": [
    "We created some random data and random labels and then fed those as blobs into the workspace."
   ]
  },
  {
   "cell_type": "code",
   "execution_count": 3,
   "metadata": {
    "collapsed": true
   },
   "outputs": [],
   "source": [
    "# Create model using a model helper\n",
    "m = model_helper.ModelHelper(name=\"my first net\")"
   ]
  },
  {
   "cell_type": "markdown",
   "metadata": {},
   "source": [
    "You've now used the `model_helper` to created the two nets we mentioned earlier (init_net, exec_net). We plan to add a fully-connected layer using the FC operator in this model next, but first we need to do some prep work by creating some random fills that the FC Op expects. Next we can add the Ops and use the weights and bias blobs we created, calling them by name when we invoke the FC Op.\n"
   ]
  },
  {
   "cell_type": "code",
   "execution_count": 4,
   "metadata": {
    "collapsed": true
   },
   "outputs": [],
   "source": [
    "weight = m.param_init_net.XavierFill([], 'fc_w', shape=[10, 100])\n",
    "bias = m.param_init_net.ConstantFill([], 'fc_b', shape=[10, ])"
   ]
  },
  {
   "cell_type": "markdown",
   "metadata": {},
   "source": [
    "In Caffe2 the FC Op takes in an input blob (our data), weights, and bias. Weights and bias using either `XavierFill` or `ConstantFill` will both take an empty array, name, and shape (as `shape=[output, input]`).\n",
    "\n"
   ]
  },
  {
   "cell_type": "code",
   "execution_count": 5,
   "metadata": {
    "collapsed": true
   },
   "outputs": [],
   "source": [
    "fc_1 = m.net.FC([\"data\", \"fc_w\", \"fc_b\"], \"fc1\")\n",
    "pred = m.net.Sigmoid(fc_1, \"pred\")\n",
    "[softmax, loss] = m.net.SoftmaxWithLoss([pred, \"label\"], [\"softmax\", \"loss\"])\n"
   ]
  },
  {
   "cell_type": "markdown",
   "metadata": {},
   "source": [
    "Reviewing the code blocks above:\n",
    "\n",
    "First, we created the input data and label blobs in memory (in practice, you would be loading data from a input data source such as database -- more about that later). Note that the data and label blobs have first dimension '16'; this is because the input to the model is a mini-batch of 16 samples at a time. Many Caffe2 operators can be accessed directly through `ModelHelper` and can handle a mini-batch of input a time. Check [ModelHelper's Operator List](workspace.html#cnnmodelhelper) for more details.\n",
    "\n",
    "Second, we create a model by defining a bunch of operators: [FC](operators-catalogue.html#fc), [Sigmoid](operators-catalogue.html#sigmoidgradient) and [SoftmaxWithLoss](operators-catalogue.html#softmaxwithloss). *Note:* at this point, the operators are not executed, you are just creating the definition of the model.\n",
    "\n",
    "Model helper will create two nets: `m.param_init_net` which is a net you run only once. It will initialize all the parameter blobs such as weights for the FC layer. The actual training is done by executing `m.net`. This is transparent to you and happens automatically.\n",
    "\n",
    "The net definition is stored in a protobuf structure (see Google's Protobuffer documentation to learn more; protobuffers are equivalent to Thrift structs). You can easily inspect it by calling `net.Proto()`:\n"
   ]
  },
  {
   "cell_type": "code",
   "execution_count": 6,
   "metadata": {
    "scrolled": true
   },
   "outputs": [
    {
     "name": "stdout",
     "output_type": "stream",
     "text": [
      "name: \"my first net\"\n",
      "op {\n",
      "  input: \"data\"\n",
      "  input: \"fc_w\"\n",
      "  input: \"fc_b\"\n",
      "  output: \"fc1\"\n",
      "  name: \"\"\n",
      "  type: \"FC\"\n",
      "}\n",
      "op {\n",
      "  input: \"fc1\"\n",
      "  output: \"pred\"\n",
      "  name: \"\"\n",
      "  type: \"Sigmoid\"\n",
      "}\n",
      "op {\n",
      "  input: \"pred\"\n",
      "  input: \"label\"\n",
      "  output: \"softmax\"\n",
      "  output: \"loss\"\n",
      "  name: \"\"\n",
      "  type: \"SoftmaxWithLoss\"\n",
      "}\n",
      "external_input: \"data\"\n",
      "external_input: \"fc_w\"\n",
      "external_input: \"fc_b\"\n",
      "external_input: \"label\"\n",
      "\n"
     ]
    }
   ],
   "source": [
    "print(str(m.net.Proto()))"
   ]
  },
  {
   "cell_type": "markdown",
   "metadata": {},
   "source": [
    "You also should have a look at the param initialization net:\n"
   ]
  },
  {
   "cell_type": "code",
   "execution_count": 7,
   "metadata": {
    "scrolled": true
   },
   "outputs": [
    {
     "name": "stdout",
     "output_type": "stream",
     "text": [
      "name: \"my first net_init\"\n",
      "op {\n",
      "  output: \"fc_w\"\n",
      "  name: \"\"\n",
      "  type: \"XavierFill\"\n",
      "  arg {\n",
      "    name: \"shape\"\n",
      "    ints: 10\n",
      "    ints: 100\n",
      "  }\n",
      "}\n",
      "op {\n",
      "  output: \"fc_b\"\n",
      "  name: \"\"\n",
      "  type: \"ConstantFill\"\n",
      "  arg {\n",
      "    name: \"shape\"\n",
      "    ints: 10\n",
      "  }\n",
      "}\n",
      "\n"
     ]
    }
   ],
   "source": [
    "print(str(m.param_init_net.Proto()))"
   ]
  },
  {
   "cell_type": "markdown",
   "metadata": {},
   "source": [
    "### Executing\n",
    "Now when we have the model training operators defined, we can start to run it to train our model.\n",
    "\n",
    "First, we run only once the param initialization:"
   ]
  },
  {
   "cell_type": "code",
   "execution_count": 8,
   "metadata": {},
   "outputs": [
    {
     "data": {
      "text/plain": [
       "True"
      ]
     },
     "execution_count": 8,
     "metadata": {},
     "output_type": "execute_result"
    }
   ],
   "source": [
    "m.AddGradientOperators([loss])\n",
    "workspace.RunNetOnce(m.param_init_net)"
   ]
  },
  {
   "cell_type": "markdown",
   "metadata": {},
   "source": [
    "Note, as usual, this will actually pass the protobuffer of the `param_init_net` down to the C++ runtime for execution.\n",
    "\n",
    "Then we create the actual training Net:\n"
   ]
  },
  {
   "cell_type": "code",
   "execution_count": 9,
   "metadata": {},
   "outputs": [
    {
     "data": {
      "text/plain": [
       "True"
      ]
     },
     "execution_count": 9,
     "metadata": {},
     "output_type": "execute_result"
    }
   ],
   "source": [
    "workspace.CreateNet(m.net,overwrite=True)"
   ]
  },
  {
   "cell_type": "markdown",
   "metadata": {},
   "source": [
    "We create it once and then we can efficiently run it multiple times:"
   ]
  },
  {
   "cell_type": "code",
   "execution_count": 10,
   "metadata": {
    "collapsed": true
   },
   "outputs": [],
   "source": [
    "# Run 100 x 10 iterations\n",
    "for j in range(0, 100):\n",
    "    data = np.random.rand(16, 100).astype(np.float32)\n",
    "    label = (np.random.rand(16) * 10).astype(np.int32)\n",
    "\n",
    "    workspace.FeedBlob(\"data\", data)\n",
    "    workspace.FeedBlob(\"label\", label)\n",
    "\n",
    "    workspace.RunNet(m.name, 10)   # run for 10 times"
   ]
  },
  {
   "cell_type": "markdown",
   "metadata": {},
   "source": [
    "Note how we refer to the network name in `RunNet()`. Since the net was created inside workspace, we don't need to pass the net definition again.\n",
    "\n",
    "After execution, you can inspect the results stored in the output blobs (that contain tensors i.e numpy arrays):\n"
   ]
  },
  {
   "cell_type": "code",
   "execution_count": 11,
   "metadata": {},
   "outputs": [
    {
     "name": "stdout",
     "output_type": "stream",
     "text": [
      "[[ 0.09061994  0.07965311  0.09871222  0.09583402  0.09483479  0.08366007\n",
      "   0.13113715  0.1024393   0.12742123  0.09568807]\n",
      " [ 0.09078755  0.09321389  0.09350473  0.0892828   0.10340762  0.08797722\n",
      "   0.11673651  0.10178439  0.121646    0.1016593 ]\n",
      " [ 0.09377754  0.08233742  0.10988451  0.08662593  0.09058259  0.08217353\n",
      "   0.12956057  0.10357561  0.1266723   0.09481001]\n",
      " [ 0.09539275  0.081124    0.10594266  0.09683703  0.10041932  0.08679937\n",
      "   0.11326341  0.11476425  0.1193881   0.08606906]\n",
      " [ 0.08773227  0.09671976  0.09878469  0.0911809   0.10331523  0.10669518\n",
      "   0.12288262  0.10679417  0.09943995  0.08645529]\n",
      " [ 0.10224349  0.09781764  0.09634469  0.09334582  0.1011361   0.09115197\n",
      "   0.11652559  0.10355464  0.11349618  0.08438382]\n",
      " [ 0.09411819  0.0817339   0.10100326  0.09774512  0.09923947  0.08981858\n",
      "   0.11463299  0.10967128  0.12042277  0.09161458]\n",
      " [ 0.09039521  0.08872747  0.10862324  0.09776999  0.08921608  0.1028707\n",
      "   0.11724133  0.10353783  0.11598253  0.08563568]\n",
      " [ 0.09903727  0.0880663   0.09098387  0.09828955  0.10066155  0.10435522\n",
      "   0.11085606  0.09670789  0.11881159  0.09223075]\n",
      " [ 0.09122165  0.08792347  0.10320708  0.09636661  0.09019518  0.09240529\n",
      "   0.13155113  0.09767547  0.11873481  0.09071928]\n",
      " [ 0.10097238  0.08739436  0.11126173  0.08891811  0.10871813  0.08473416\n",
      "   0.11748754  0.09355175  0.1135131   0.09344878]\n",
      " [ 0.08420242  0.09228417  0.09599647  0.087931    0.10233732  0.084204\n",
      "   0.11760446  0.10745139  0.11943576  0.10855304]\n",
      " [ 0.09075275  0.0821545   0.09219201  0.09810864  0.10815381  0.08629741\n",
      "   0.12194791  0.11542177  0.11749665  0.08747445]\n",
      " [ 0.0929629   0.08430607  0.1043956   0.08167019  0.11109739  0.1034144\n",
      "   0.11618393  0.10110767  0.11178482  0.09307709]\n",
      " [ 0.09143046  0.09814581  0.1014914   0.08676262  0.10034599  0.10533977\n",
      "   0.10651444  0.10016392  0.11157309  0.09823248]\n",
      " [ 0.09392388  0.08702192  0.09714372  0.09852847  0.09684231  0.08959801\n",
      "   0.12168553  0.1051065   0.11249804  0.09765162]]\n",
      "2.32762622833\n",
      "[ 0.  0.  0.  0.  0.  0.  0.  0.  0.  0.]\n"
     ]
    }
   ],
   "source": [
    "print(workspace.FetchBlob(\"softmax\"))\n",
    "print(workspace.FetchBlob(\"loss\"))\n",
    "print(workspace.FetchBlob(\"fc_b\"))"
   ]
  },
  {
   "cell_type": "markdown",
   "metadata": {},
   "source": [
    "### Backward pass\n",
    "This net only contains the forward pass, thus is not learning anything. The backward pass is created by creating the gradient operators for each operator in the forward pass.\n",
    "\n",
    "If you care to follow this example yourself, then try the following steps an examine the results!\n",
    "\n",
    "Insert following before you call `RunNetOnce()`:\n"
   ]
  },
  {
   "cell_type": "code",
   "execution_count": 23,
   "metadata": {},
   "outputs": [
    {
     "data": {
      "text/plain": [
       "{BlobReference(\"fc_b\"): BlobReference(\"fc_b_grad\"),\n",
       " BlobReference(\"loss\"): BlobReference(\"loss_autogen_grad\"),\n",
       " BlobReference(\"pred\"): BlobReference(\"pred_grad\"),\n",
       " BlobReference(\"data\"): BlobReference(\"data_grad\"),\n",
       " BlobReference(\"fc_w\"): BlobReference(\"fc_w_grad\"),\n",
       " BlobReference(\"fc1\"): BlobReference(\"fc1_grad\")}"
      ]
     },
     "execution_count": 23,
     "metadata": {},
     "output_type": "execute_result"
    }
   ],
   "source": [
    "m.AddGradientOperators([loss])"
   ]
  },
  {
   "cell_type": "markdown",
   "metadata": {},
   "source": [
    "Examine the protobuf output:"
   ]
  },
  {
   "cell_type": "code",
   "execution_count": 12,
   "metadata": {},
   "outputs": [
    {
     "name": "stdout",
     "output_type": "stream",
     "text": [
      "name: \"my first net\"\n",
      "op {\n",
      "  input: \"data\"\n",
      "  input: \"fc_w\"\n",
      "  input: \"fc_b\"\n",
      "  output: \"fc1\"\n",
      "  name: \"\"\n",
      "  type: \"FC\"\n",
      "}\n",
      "op {\n",
      "  input: \"fc1\"\n",
      "  output: \"pred\"\n",
      "  name: \"\"\n",
      "  type: \"Sigmoid\"\n",
      "}\n",
      "op {\n",
      "  input: \"pred\"\n",
      "  input: \"label\"\n",
      "  output: \"softmax\"\n",
      "  output: \"loss\"\n",
      "  name: \"\"\n",
      "  type: \"SoftmaxWithLoss\"\n",
      "}\n",
      "op {\n",
      "  input: \"loss\"\n",
      "  output: \"loss_autogen_grad\"\n",
      "  name: \"\"\n",
      "  type: \"ConstantFill\"\n",
      "  arg {\n",
      "    name: \"value\"\n",
      "    f: 1.0\n",
      "  }\n",
      "}\n",
      "op {\n",
      "  input: \"pred\"\n",
      "  input: \"label\"\n",
      "  input: \"softmax\"\n",
      "  input: \"loss_autogen_grad\"\n",
      "  output: \"pred_grad\"\n",
      "  name: \"\"\n",
      "  type: \"SoftmaxWithLossGradient\"\n",
      "  is_gradient_op: true\n",
      "}\n",
      "op {\n",
      "  input: \"pred\"\n",
      "  input: \"pred_grad\"\n",
      "  output: \"fc1_grad\"\n",
      "  name: \"\"\n",
      "  type: \"SigmoidGradient\"\n",
      "  is_gradient_op: true\n",
      "}\n",
      "op {\n",
      "  input: \"data\"\n",
      "  input: \"fc_w\"\n",
      "  input: \"fc1_grad\"\n",
      "  output: \"fc_w_grad\"\n",
      "  output: \"fc_b_grad\"\n",
      "  output: \"data_grad\"\n",
      "  name: \"\"\n",
      "  type: \"FCGradient\"\n",
      "  is_gradient_op: true\n",
      "}\n",
      "external_input: \"data\"\n",
      "external_input: \"fc_w\"\n",
      "external_input: \"fc_b\"\n",
      "external_input: \"label\"\n",
      "\n"
     ]
    }
   ],
   "source": [
    "print(str(m.net.Proto()))"
   ]
  },
  {
   "cell_type": "code",
   "execution_count": 13,
   "metadata": {},
   "outputs": [
    {
     "name": "stdout",
     "output_type": "stream",
     "text": [
      "Current blobs in the workspace: [u'data', u'data_grad', u'fc1', u'fc1_grad', u'fc_b', u'fc_b_grad', u'fc_w', u'fc_w_grad', u'label', u'loss', u'loss_autogen_grad', u'my_x', u'pred', u'pred_grad', u'softmax']\n"
     ]
    }
   ],
   "source": [
    "print(\"Current blobs in the workspace: {}\".format(workspace.Blobs()))"
   ]
  }
 ],
 "metadata": {
  "kernelspec": {
   "display_name": "Python 2",
   "language": "python",
   "name": "python2"
  },
  "language_info": {
   "codemirror_mode": {
    "name": "ipython",
    "version": 2
   },
   "file_extension": ".py",
   "mimetype": "text/x-python",
   "name": "python",
   "nbconvert_exporter": "python",
   "pygments_lexer": "ipython2",
   "version": "2.7.13"
  }
 },
 "nbformat": 4,
 "nbformat_minor": 2
}
